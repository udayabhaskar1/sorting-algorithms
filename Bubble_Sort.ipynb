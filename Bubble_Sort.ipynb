{
 "cells": [
  {
   "cell_type": "code",
   "execution_count": 26,
   "metadata": {},
   "outputs": [],
   "source": [
    "def bubbleSort(A, n):\n",
    "    for j in range(0, n-1):\n",
    "        flag = 0\n",
    "        for i in range(0, n-1-j):\n",
    "            if A[i] > A[i + 1]:\n",
    "                temp = A[i]\n",
    "                A[i] = A[i + 1]\n",
    "                A[i+1] = temp\n",
    "                flag = 1\n",
    "        if flag == 0:\n",
    "            break\n",
    "    return A\n",
    "        "
   ]
  },
  {
   "cell_type": "code",
   "execution_count": 27,
   "metadata": {},
   "outputs": [
    {
     "name": "stdout",
     "output_type": "stream",
     "text": [
      "[0, 6, 9, 10, 10, 21, 22, 23, 100, 289, 7]\n"
     ]
    }
   ],
   "source": [
    "x = bubbleSort([21,22,23,10, 289, 0,100,9,10,6,7], 10)\n",
    "print(x)"
   ]
  },
  {
   "cell_type": "code",
   "execution_count": null,
   "metadata": {},
   "outputs": [],
   "source": []
  }
 ],
 "metadata": {
  "kernelspec": {
   "display_name": "Python 3",
   "language": "python",
   "name": "python3"
  },
  "language_info": {
   "codemirror_mode": {
    "name": "ipython",
    "version": 3
   },
   "file_extension": ".py",
   "mimetype": "text/x-python",
   "name": "python",
   "nbconvert_exporter": "python",
   "pygments_lexer": "ipython3",
   "version": "3.7.4"
  }
 },
 "nbformat": 4,
 "nbformat_minor": 2
}
